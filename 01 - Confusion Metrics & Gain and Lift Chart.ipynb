{
 "cells": [
  {
   "cell_type": "markdown",
   "metadata": {},
   "source": [
    "# Gain and Lift chart example"
   ]
  },
  {
   "cell_type": "markdown",
   "metadata": {},
   "source": [
    "* ### Classification process\n",
    "\n",
    "Data Set: https://archive.ics.uci.edu/ml/datasets/pima+indians+diabetes"
   ]
  },
  {
   "cell_type": "code",
   "execution_count": 1,
   "metadata": {
    "collapsed": false
   },
   "outputs": [],
   "source": [
    "import pandas as pd\n",
    "import numpy as np\n",
    "from sklearn.model_selection import train_test_split\n",
    "from sklearn.linear_model import LogisticRegression\n",
    "from sklearn.metrics import *\n",
    "from sklearn.model_selection import cross_val_score\n",
    "from matplotlib import pyplot as plt\n",
    "\n",
    "%matplotlib inline"
   ]
  },
  {
   "cell_type": "code",
   "execution_count": 2,
   "metadata": {
    "collapsed": false
   },
   "outputs": [
    {
     "data": {
      "text/html": [
       "<div>\n",
       "<table border=\"1\" class=\"dataframe\">\n",
       "  <thead>\n",
       "    <tr style=\"text-align: right;\">\n",
       "      <th></th>\n",
       "      <th>Pregnencies</th>\n",
       "      <th>Plasma</th>\n",
       "      <th>Diastolic</th>\n",
       "      <th>Triceps</th>\n",
       "      <th>Serum</th>\n",
       "      <th>BMI</th>\n",
       "      <th>Pedigree</th>\n",
       "      <th>Age</th>\n",
       "      <th>Diabete</th>\n",
       "    </tr>\n",
       "  </thead>\n",
       "  <tbody>\n",
       "    <tr>\n",
       "      <th>0</th>\n",
       "      <td>6</td>\n",
       "      <td>148</td>\n",
       "      <td>72</td>\n",
       "      <td>35</td>\n",
       "      <td>0</td>\n",
       "      <td>33.6</td>\n",
       "      <td>0.627</td>\n",
       "      <td>50</td>\n",
       "      <td>1</td>\n",
       "    </tr>\n",
       "    <tr>\n",
       "      <th>1</th>\n",
       "      <td>1</td>\n",
       "      <td>85</td>\n",
       "      <td>66</td>\n",
       "      <td>29</td>\n",
       "      <td>0</td>\n",
       "      <td>26.6</td>\n",
       "      <td>0.351</td>\n",
       "      <td>31</td>\n",
       "      <td>0</td>\n",
       "    </tr>\n",
       "    <tr>\n",
       "      <th>2</th>\n",
       "      <td>8</td>\n",
       "      <td>183</td>\n",
       "      <td>64</td>\n",
       "      <td>0</td>\n",
       "      <td>0</td>\n",
       "      <td>23.3</td>\n",
       "      <td>0.672</td>\n",
       "      <td>32</td>\n",
       "      <td>1</td>\n",
       "    </tr>\n",
       "    <tr>\n",
       "      <th>3</th>\n",
       "      <td>1</td>\n",
       "      <td>89</td>\n",
       "      <td>66</td>\n",
       "      <td>23</td>\n",
       "      <td>94</td>\n",
       "      <td>28.1</td>\n",
       "      <td>0.167</td>\n",
       "      <td>21</td>\n",
       "      <td>0</td>\n",
       "    </tr>\n",
       "    <tr>\n",
       "      <th>4</th>\n",
       "      <td>0</td>\n",
       "      <td>137</td>\n",
       "      <td>40</td>\n",
       "      <td>35</td>\n",
       "      <td>168</td>\n",
       "      <td>43.1</td>\n",
       "      <td>2.288</td>\n",
       "      <td>33</td>\n",
       "      <td>1</td>\n",
       "    </tr>\n",
       "  </tbody>\n",
       "</table>\n",
       "</div>"
      ],
      "text/plain": [
       "   Pregnencies  Plasma  Diastolic  Triceps  Serum   BMI  Pedigree  Age  \\\n",
       "0            6     148         72       35      0  33.6     0.627   50   \n",
       "1            1      85         66       29      0  26.6     0.351   31   \n",
       "2            8     183         64        0      0  23.3     0.672   32   \n",
       "3            1      89         66       23     94  28.1     0.167   21   \n",
       "4            0     137         40       35    168  43.1     2.288   33   \n",
       "\n",
       "   Diabete  \n",
       "0        1  \n",
       "1        0  \n",
       "2        1  \n",
       "3        0  \n",
       "4        1  "
      ]
     },
     "execution_count": 2,
     "metadata": {},
     "output_type": "execute_result"
    }
   ],
   "source": [
    "data_set = pd.read_csv(\".\\Data Sets\\PDS.csv\")\n",
    "\n",
    "data_set.head()"
   ]
  },
  {
   "cell_type": "code",
   "execution_count": 3,
   "metadata": {
    "collapsed": false
   },
   "outputs": [
    {
     "data": {
      "text/plain": [
       "(768, 9)"
      ]
     },
     "execution_count": 3,
     "metadata": {},
     "output_type": "execute_result"
    }
   ],
   "source": [
    "#shape of the data set\n",
    "\n",
    "data_set.shape"
   ]
  },
  {
   "cell_type": "code",
   "execution_count": 4,
   "metadata": {
    "collapsed": false
   },
   "outputs": [
    {
     "data": {
      "text/plain": [
       "Index(['Pregnencies', 'Plasma', 'Diastolic', 'Triceps', 'Serum', 'BMI',\n",
       "       'Pedigree', 'Age', 'Diabete'],\n",
       "      dtype='object')"
      ]
     },
     "execution_count": 4,
     "metadata": {},
     "output_type": "execute_result"
    }
   ],
   "source": [
    "data_set.columns"
   ]
  },
  {
   "cell_type": "code",
   "execution_count": 5,
   "metadata": {
    "collapsed": false
   },
   "outputs": [
    {
     "data": {
      "text/plain": [
       "Pregnencies      int64\n",
       "Plasma           int64\n",
       "Diastolic        int64\n",
       "Triceps          int64\n",
       "Serum            int64\n",
       "BMI            float64\n",
       "Pedigree       float64\n",
       "Age              int64\n",
       "Diabete          int64\n",
       "dtype: object"
      ]
     },
     "execution_count": 5,
     "metadata": {},
     "output_type": "execute_result"
    }
   ],
   "source": [
    "data_set.dtypes"
   ]
  },
  {
   "cell_type": "markdown",
   "metadata": {},
   "source": [
    "* Convert above data set into Features and response"
   ]
  },
  {
   "cell_type": "code",
   "execution_count": 6,
   "metadata": {
    "collapsed": false
   },
   "outputs": [],
   "source": [
    "#convert DataFrame into Matrix\n",
    "mat_data = data_set.as_matrix()\n",
    "\n",
    "#Feature Matrix\n",
    "x = mat_data[:,0:8]\n",
    "\n",
    "#Response Series/Vector\n",
    "y = mat_data[:,8].astype('int')"
   ]
  },
  {
   "cell_type": "code",
   "execution_count": 7,
   "metadata": {
    "collapsed": false
   },
   "outputs": [
    {
     "name": "stdout",
     "output_type": "stream",
     "text": [
      "(768, 8)\n",
      "(768,)\n"
     ]
    }
   ],
   "source": [
    "print(x.shape)\n",
    "print(y.shape)"
   ]
  },
  {
   "cell_type": "markdown",
   "metadata": {},
   "source": [
    "* Split data into Train and test data set"
   ]
  },
  {
   "cell_type": "code",
   "execution_count": 8,
   "metadata": {
    "collapsed": false
   },
   "outputs": [
    {
     "name": "stdout",
     "output_type": "stream",
     "text": [
      "(537, 8) (231, 8) (537,) (231,)\n"
     ]
    }
   ],
   "source": [
    "xtrain,xtest,ytrain,ytest = train_test_split(x,y,test_size = 0.3,random_state = 0)\n",
    "print(xtrain.shape,xtest.shape,ytrain.shape,ytest.shape)"
   ]
  },
  {
   "cell_type": "code",
   "execution_count": 9,
   "metadata": {
    "collapsed": false
   },
   "outputs": [
    {
     "name": "stdout",
     "output_type": "stream",
     "text": [
      "[[ 0.08142757  0.02615776 -0.01696135  0.00531404 -0.000753    0.05360851\n",
      "   0.50768925  0.01373801]] [-5.43708967]\n"
     ]
    }
   ],
   "source": [
    "#instantiate the model\n",
    "logreg = LogisticRegression()\n",
    "\n",
    "#fit the model train data\n",
    "logreg.fit(xtrain,ytrain)\n",
    "\n",
    "#The Co-efficient & Intercept\n",
    "print(logreg.coef_,logreg.intercept_)"
   ]
  },
  {
   "cell_type": "code",
   "execution_count": 10,
   "metadata": {
    "collapsed": false
   },
   "outputs": [
    {
     "data": {
      "text/html": [
       "<div>\n",
       "<table border=\"1\" class=\"dataframe\">\n",
       "  <thead>\n",
       "    <tr style=\"text-align: right;\">\n",
       "      <th></th>\n",
       "      <th>Co-efficient Values</th>\n",
       "    </tr>\n",
       "  </thead>\n",
       "  <tbody>\n",
       "    <tr>\n",
       "      <th>Pregnencies</th>\n",
       "      <td>0.081428</td>\n",
       "    </tr>\n",
       "    <tr>\n",
       "      <th>Plasma</th>\n",
       "      <td>0.026158</td>\n",
       "    </tr>\n",
       "    <tr>\n",
       "      <th>Diastolic</th>\n",
       "      <td>-0.016961</td>\n",
       "    </tr>\n",
       "    <tr>\n",
       "      <th>Triceps</th>\n",
       "      <td>0.005314</td>\n",
       "    </tr>\n",
       "    <tr>\n",
       "      <th>Serum</th>\n",
       "      <td>-0.000753</td>\n",
       "    </tr>\n",
       "    <tr>\n",
       "      <th>BMI</th>\n",
       "      <td>0.053609</td>\n",
       "    </tr>\n",
       "    <tr>\n",
       "      <th>Pedigree</th>\n",
       "      <td>0.507689</td>\n",
       "    </tr>\n",
       "    <tr>\n",
       "      <th>Age</th>\n",
       "      <td>0.013738</td>\n",
       "    </tr>\n",
       "  </tbody>\n",
       "</table>\n",
       "</div>"
      ],
      "text/plain": [
       "             Co-efficient Values\n",
       "Pregnencies             0.081428\n",
       "Plasma                  0.026158\n",
       "Diastolic              -0.016961\n",
       "Triceps                 0.005314\n",
       "Serum                  -0.000753\n",
       "BMI                     0.053609\n",
       "Pedigree                0.507689\n",
       "Age                     0.013738"
      ]
     },
     "execution_count": 10,
     "metadata": {},
     "output_type": "execute_result"
    }
   ],
   "source": [
    "#Saving Co-efficient into dataframe\n",
    "df_columns = data_set.columns[0:8]\n",
    "coef_df = pd.DataFrame(logreg.coef_.flatten(),index = df_columns,columns=['Co-efficient Values'])\n",
    "\n",
    "coef_df"
   ]
  },
  {
   "cell_type": "code",
   "execution_count": 11,
   "metadata": {
    "collapsed": true
   },
   "outputs": [],
   "source": [
    "#Predict on Feature test data\n",
    "ypred = logreg.predict(xtest)"
   ]
  },
  {
   "cell_type": "code",
   "execution_count": 12,
   "metadata": {
    "collapsed": false
   },
   "outputs": [
    {
     "name": "stdout",
     "output_type": "stream",
     "text": [
      "[[142  15]\n",
      " [ 35  39]]\n"
     ]
    }
   ],
   "source": [
    "#print confusion matrics\n",
    "cm = confusion_matrix(ytest,ypred)\n",
    "\n",
    "print(cm)"
   ]
  },
  {
   "cell_type": "code",
   "execution_count": 13,
   "metadata": {
    "collapsed": false
   },
   "outputs": [
    {
     "name": "stdout",
     "output_type": "stream",
     "text": [
      "Accuracy of test:0.783550 and error rate of test:0.216450\n"
     ]
    }
   ],
   "source": [
    "#print accuracy of the model\n",
    "acc = accuracy_score(ytest,ypred)\n",
    "\n",
    "#error rate \n",
    "err = 1.0 -acc\n",
    "\n",
    "print(\"Accuracy of test:%f and error rate of test:%f\"%(acc,err))"
   ]
  },
  {
   "cell_type": "code",
   "execution_count": 14,
   "metadata": {
    "collapsed": false
   },
   "outputs": [
    {
     "name": "stdout",
     "output_type": "stream",
     "text": [
      "[('Sensitivity', 0.47297297297297297), ('Specificity', 0.90445859872611467)]\n"
     ]
    }
   ],
   "source": [
    "#sensibility and specificity\n",
    "def scores_sp_se(y,y_hat):\n",
    "    scores_list = ['Sensitivity','Specificity']\n",
    "    cm = confusion_matrix(y,y_hat)\n",
    "    se = cm[1:,0] / cm[1:].sum()\n",
    "    sp = cm[:1,0] / cm[:1].sum()\n",
    "    scores = list(se) + list(sp)\n",
    "    zipped = zip(scores_list,scores)    \n",
    "    return(list(zipped))\n",
    "\n",
    "#make a function usable as the scorer object\n",
    "scorer = make_scorer(scores_sp_se) \n",
    "print(scorer(logreg,xtest,ytest))"
   ]
  },
  {
   "cell_type": "markdown",
   "metadata": {},
   "source": [
    "*  ### Cross validation"
   ]
  },
  {
   "cell_type": "code",
   "execution_count": 15,
   "metadata": {
    "collapsed": false
   },
   "outputs": [
    {
     "data": {
      "text/html": [
       "<div>\n",
       "<table border=\"1\" class=\"dataframe\">\n",
       "  <thead>\n",
       "    <tr style=\"text-align: right;\">\n",
       "      <th></th>\n",
       "      <th>Co-efficient Values</th>\n",
       "    </tr>\n",
       "  </thead>\n",
       "  <tbody>\n",
       "    <tr>\n",
       "      <th>Pregnencies</th>\n",
       "      <td>0.117052</td>\n",
       "    </tr>\n",
       "    <tr>\n",
       "      <th>Plasma</th>\n",
       "      <td>0.028387</td>\n",
       "    </tr>\n",
       "    <tr>\n",
       "      <th>Diastolic</th>\n",
       "      <td>-0.016890</td>\n",
       "    </tr>\n",
       "    <tr>\n",
       "      <th>Triceps</th>\n",
       "      <td>0.000755</td>\n",
       "    </tr>\n",
       "    <tr>\n",
       "      <th>Serum</th>\n",
       "      <td>-0.000643</td>\n",
       "    </tr>\n",
       "    <tr>\n",
       "      <th>BMI</th>\n",
       "      <td>0.059760</td>\n",
       "    </tr>\n",
       "    <tr>\n",
       "      <th>Pedigree</th>\n",
       "      <td>0.677672</td>\n",
       "    </tr>\n",
       "    <tr>\n",
       "      <th>Age</th>\n",
       "      <td>0.007239</td>\n",
       "    </tr>\n",
       "  </tbody>\n",
       "</table>\n",
       "</div>"
      ],
      "text/plain": [
       "             Co-efficient Values\n",
       "Pregnencies             0.117052\n",
       "Plasma                  0.028387\n",
       "Diastolic              -0.016890\n",
       "Triceps                 0.000755\n",
       "Serum                  -0.000643\n",
       "BMI                     0.059760\n",
       "Pedigree                0.677672\n",
       "Age                     0.007239"
      ]
     },
     "execution_count": 15,
     "metadata": {},
     "output_type": "execute_result"
    }
   ],
   "source": [
    "# Cross validation on entire data set using cross_val_score\n",
    "\n",
    "#instantiate the model\n",
    "logreg = LogisticRegression()\n",
    "\n",
    "#fit the model for entire data_set\n",
    "logreg.fit(x,y)\n",
    "\n",
    "#Saving Co-efficient into dataframe\n",
    "df_columns = data_set.columns[0:8]\n",
    "coef_df = pd.DataFrame(logreg.coef_.flatten(),index = df_columns,columns=['Co-efficient Values'])\n",
    "\n",
    "coef_df"
   ]
  },
  {
   "cell_type": "code",
   "execution_count": 16,
   "metadata": {
    "collapsed": false
   },
   "outputs": [
    {
     "name": "stdout",
     "output_type": "stream",
     "text": [
      "0.766968557758\n"
     ]
    }
   ],
   "source": [
    "#Create Probability data\n",
    "\n",
    "success = cross_val_score(logreg,x,y,cv=10,scoring='accuracy')\n",
    "\n",
    "print(success.mean())"
   ]
  },
  {
   "cell_type": "markdown",
   "metadata": {},
   "source": [
    "* ### Scoring using Gain chart"
   ]
  },
  {
   "cell_type": "code",
   "execution_count": 17,
   "metadata": {
    "collapsed": false
   },
   "outputs": [
    {
     "name": "stdout",
     "output_type": "stream",
     "text": [
      "Negative Prob    Postive Prob\n",
      " [[ 0.10920054  0.89079946]\n",
      " [ 0.78985405  0.21014595]\n",
      " [ 0.85940384  0.14059616]\n",
      " [ 0.39127332  0.60872668]\n",
      " [ 0.82582806  0.17417194]\n",
      " [ 0.92366326  0.07633674]\n",
      " [ 0.32282934  0.67717066]\n",
      " [ 0.25660159  0.74339841]\n",
      " [ 0.59261485  0.40738515]\n",
      " [ 0.62419433  0.37580567]\n",
      " [ 0.45794595  0.54205405]\n",
      " [ 0.10428529  0.89571471]\n",
      " [ 0.69156969  0.30843031]\n",
      " [ 0.77680046  0.22319954]\n",
      " [ 0.83023966  0.16976034]\n",
      " [ 0.79518417  0.20481583]\n",
      " [ 0.19572227  0.80427773]\n",
      " [ 0.9304532   0.0695468 ]\n",
      " [ 0.59224198  0.40775802]\n",
      " [ 0.68606481  0.31393519]\n",
      " [ 0.42848123  0.57151877]\n",
      " [ 0.64666115  0.35333885]\n",
      " [ 0.64361903  0.35638097]\n",
      " [ 0.90376459  0.09623541]\n",
      " [ 0.89755231  0.10244769]\n",
      " [ 0.6203647   0.3796353 ]\n",
      " [ 0.91316821  0.08683179]\n",
      " [ 0.17791729  0.82208271]\n",
      " [ 0.82073279  0.17926721]\n",
      " [ 0.79441775  0.20558225]\n",
      " [ 0.5263097   0.4736903 ]\n",
      " [ 0.72151618  0.27848382]\n",
      " [ 0.87235022  0.12764978]\n",
      " [ 0.52893788  0.47106212]\n",
      " [ 0.81729252  0.18270748]\n",
      " [ 0.33748063  0.66251937]\n",
      " [ 0.52359899  0.47640101]\n",
      " [ 0.86926261  0.13073739]\n",
      " [ 0.5982459   0.4017541 ]\n",
      " [ 0.30413882  0.69586118]\n",
      " [ 0.69603337  0.30396663]\n",
      " [ 0.78587099  0.21412901]\n",
      " [ 0.76535666  0.23464334]\n",
      " [ 0.23688721  0.76311279]\n",
      " [ 0.27583962  0.72416038]\n",
      " [ 0.96577518  0.03422482]\n",
      " [ 0.84137597  0.15862403]\n",
      " [ 0.71613235  0.28386765]\n",
      " [ 0.62344951  0.37655049]\n",
      " [ 0.69507732  0.30492268]\n",
      " [ 0.5574506   0.4425494 ]\n",
      " [ 0.73778786  0.26221214]\n",
      " [ 0.18990101  0.81009899]\n",
      " [ 0.53553206  0.46446794]\n",
      " [ 0.82088072  0.17911928]\n",
      " [ 0.9874584   0.0125416 ]\n",
      " [ 0.88770707  0.11229293]\n",
      " [ 0.58840126  0.41159874]\n",
      " [ 0.69337841  0.30662159]\n",
      " [ 0.7446016   0.2553984 ]\n",
      " [ 0.36691824  0.63308176]\n",
      " [ 0.53259568  0.46740432]\n",
      " [ 0.83251105  0.16748895]\n",
      " [ 0.28175068  0.71824932]\n",
      " [ 0.37252961  0.62747039]\n",
      " [ 0.1623059   0.8376941 ]\n",
      " [ 0.3599979   0.6400021 ]\n",
      " [ 0.80425073  0.19574927]\n",
      " [ 0.59170191  0.40829809]\n",
      " [ 0.83926788  0.16073212]\n",
      " [ 0.81978148  0.18021852]\n",
      " [ 0.44743882  0.55256118]\n",
      " [ 0.85660574  0.14339426]\n",
      " [ 0.14293174  0.85706826]\n",
      " [ 0.25386902  0.74613098]\n",
      " [ 0.67696442  0.32303558]\n",
      " [ 0.86566755  0.13433245]\n",
      " [ 0.40568926  0.59431074]\n",
      " [ 0.89082885  0.10917115]\n",
      " [ 0.7734318   0.2265682 ]\n",
      " [ 0.67058875  0.32941125]\n",
      " [ 0.59965249  0.40034751]\n",
      " [ 0.75580736  0.24419264]\n",
      " [ 0.92046579  0.07953421]\n",
      " [ 0.74028198  0.25971802]\n",
      " [ 0.78258077  0.21741923]\n",
      " [ 0.64430216  0.35569784]\n",
      " [ 0.54073667  0.45926333]\n",
      " [ 0.20876038  0.79123962]\n",
      " [ 0.78785326  0.21214674]\n",
      " [ 0.77253985  0.22746015]\n",
      " [ 0.78726014  0.21273986]\n",
      " [ 0.7012374   0.2987626 ]\n",
      " [ 0.91909362  0.08090638]\n",
      " [ 0.41585458  0.58414542]\n",
      " [ 0.7387452   0.2612548 ]\n",
      " [ 0.60895654  0.39104346]\n",
      " [ 0.52915508  0.47084492]\n",
      " [ 0.46787017  0.53212983]\n",
      " [ 0.72158327  0.27841673]\n",
      " [ 0.73511537  0.26488463]\n",
      " [ 0.8357599   0.1642401 ]\n",
      " [ 0.78068815  0.21931185]\n",
      " [ 0.91574655  0.08425345]\n",
      " [ 0.43914309  0.56085691]\n",
      " [ 0.6398397   0.3601603 ]\n",
      " [ 0.82170429  0.17829571]\n",
      " [ 0.66161324  0.33838676]\n",
      " [ 0.91363635  0.08636365]\n",
      " [ 0.27978342  0.72021658]\n",
      " [ 0.83429597  0.16570403]\n",
      " [ 0.66086461  0.33913539]\n",
      " [ 0.41699327  0.58300673]\n",
      " [ 0.65836017  0.34163983]\n",
      " [ 0.48170342  0.51829658]\n",
      " [ 0.43910865  0.56089135]\n",
      " [ 0.82508511  0.17491489]\n",
      " [ 0.33223849  0.66776151]\n",
      " [ 0.85908005  0.14091995]\n",
      " [ 0.34301043  0.65698957]\n",
      " [ 0.63137024  0.36862976]\n",
      " [ 0.69458424  0.30541576]\n",
      " [ 0.66796241  0.33203759]\n",
      " [ 0.53087143  0.46912857]\n",
      " [ 0.72636482  0.27363518]\n",
      " [ 0.9035667   0.0964333 ]\n",
      " [ 0.69049759  0.30950241]\n",
      " [ 0.63395561  0.36604439]\n",
      " [ 0.52707134  0.47292866]\n",
      " [ 0.62101241  0.37898759]\n",
      " [ 0.57442437  0.42557563]\n",
      " [ 0.83698646  0.16301354]\n",
      " [ 0.88900249  0.11099751]\n",
      " [ 0.30394819  0.69605181]\n",
      " [ 0.66759619  0.33240381]\n",
      " [ 0.59756065  0.40243935]\n",
      " [ 0.78523991  0.21476009]\n",
      " [ 0.60482993  0.39517007]\n",
      " [ 0.29713672  0.70286328]\n",
      " [ 0.73352542  0.26647458]\n",
      " [ 0.85266703  0.14733297]\n",
      " [ 0.47183493  0.52816507]\n",
      " [ 0.87065165  0.12934835]\n",
      " [ 0.88684368  0.11315632]\n",
      " [ 0.63139869  0.36860131]\n",
      " [ 0.85405561  0.14594439]\n",
      " [ 0.86522985  0.13477015]\n",
      " [ 0.84412199  0.15587801]\n",
      " [ 0.82402065  0.17597935]\n",
      " [ 0.77264237  0.22735763]\n",
      " [ 0.8533827   0.1466173 ]\n",
      " [ 0.46684457  0.53315543]\n",
      " [ 0.83466572  0.16533428]\n",
      " [ 0.78290159  0.21709841]\n",
      " [ 0.31582952  0.68417048]\n",
      " [ 0.8069998   0.1930002 ]\n",
      " [ 0.41284232  0.58715768]\n",
      " [ 0.79487213  0.20512787]\n",
      " [ 0.35974557  0.64025443]\n",
      " [ 0.06681968  0.93318032]\n",
      " [ 0.34609449  0.65390551]\n",
      " [ 0.28111651  0.71888349]\n",
      " [ 0.93786797  0.06213203]\n",
      " [ 0.69445934  0.30554066]\n",
      " [ 0.20365043  0.79634957]\n",
      " [ 0.54639226  0.45360774]\n",
      " [ 0.73011792  0.26988208]\n",
      " [ 0.81664041  0.18335959]\n",
      " [ 0.69135104  0.30864896]\n",
      " [ 0.86969575  0.13030425]\n",
      " [ 0.78413687  0.21586313]\n",
      " [ 0.74564921  0.25435079]\n",
      " [ 0.76525567  0.23474433]\n",
      " [ 0.75015237  0.24984763]\n",
      " [ 0.51291074  0.48708926]\n",
      " [ 0.81927226  0.18072774]\n",
      " [ 0.62710339  0.37289661]\n",
      " [ 0.8508357   0.1491643 ]\n",
      " [ 0.82328904  0.17671096]\n",
      " [ 0.87888913  0.12111087]\n",
      " [ 0.80755005  0.19244995]\n",
      " [ 0.30504465  0.69495535]\n",
      " [ 0.81528006  0.18471994]\n",
      " [ 0.12840127  0.87159873]\n",
      " [ 0.54148148  0.45851852]\n",
      " [ 0.94255788  0.05744212]\n",
      " [ 0.31008357  0.68991643]\n",
      " [ 0.70294315  0.29705685]\n",
      " [ 0.54136589  0.45863411]\n",
      " [ 0.81543865  0.18456135]\n",
      " [ 0.75856136  0.24143864]\n",
      " [ 0.85479908  0.14520092]\n",
      " [ 0.84503346  0.15496654]\n",
      " [ 0.71066921  0.28933079]\n",
      " [ 0.88086828  0.11913172]\n",
      " [ 0.27659902  0.72340098]\n",
      " [ 0.31368166  0.68631834]\n",
      " [ 0.49728705  0.50271295]\n",
      " [ 0.87839485  0.12160515]\n",
      " [ 0.69829231  0.30170769]\n",
      " [ 0.8697871   0.1302129 ]\n",
      " [ 0.79285435  0.20714565]\n",
      " [ 0.76380175  0.23619825]\n",
      " [ 0.60820023  0.39179977]\n",
      " [ 0.71787613  0.28212387]\n",
      " [ 0.80598066  0.19401934]\n",
      " [ 0.73321705  0.26678295]\n",
      " [ 0.7815017   0.2184983 ]\n",
      " [ 0.60828967  0.39171033]\n",
      " [ 0.81255619  0.18744381]\n",
      " [ 0.86152381  0.13847619]\n",
      " [ 0.86736562  0.13263438]\n",
      " [ 0.64308815  0.35691185]\n",
      " [ 0.65276757  0.34723243]\n",
      " [ 0.75150394  0.24849606]\n",
      " [ 0.6641548   0.3358452 ]\n",
      " [ 0.53099956  0.46900044]\n",
      " [ 0.6630231   0.3369769 ]\n",
      " [ 0.46948997  0.53051003]\n",
      " [ 0.75536835  0.24463165]\n",
      " [ 0.81590261  0.18409739]\n",
      " [ 0.90448903  0.09551097]\n",
      " [ 0.59242641  0.40757359]\n",
      " [ 0.41405914  0.58594086]\n",
      " [ 0.48303541  0.51696459]\n",
      " [ 0.3479939   0.6520061 ]\n",
      " [ 0.72559111  0.27440889]\n",
      " [ 0.70175165  0.29824835]\n",
      " [ 0.89291784  0.10708216]\n",
      " [ 0.80289384  0.19710616]\n",
      " [ 0.55775978  0.44224022]]\n"
     ]
    }
   ],
   "source": [
    "#Instantiate the model\n",
    "\n",
    "logreg = LogisticRegression()\n",
    "\n",
    "#fit the model\n",
    "logreg.fit(xtrain,ytrain)\n",
    "\n",
    "#returns both negative and Positive probability\n",
    "proba = logreg.predict_proba(xtest)\n",
    "print(\"Negative Prob    Postive Prob\\n\",proba)"
   ]
  },
  {
   "cell_type": "code",
   "execution_count": 18,
   "metadata": {
    "collapsed": false
   },
   "outputs": [],
   "source": [
    "#we are interested in Positive probability(i.e. Response)\n",
    "TP_prob = proba[:,1]\n",
    "\n",
    "#transforming 0/1 the ytest vector\n",
    "pos = pd.get_dummies(ytest).as_matrix()[:,1]\n",
    "\n",
    "#indices that would sort according to the posive probability\n",
    "index = np.argsort(TP_prob)[::-1]\n",
    "\n",
    "#sorted positions\n",
    "sort_pos = pos[index]\n",
    "#no of instance in the ytest\n",
    "n = ytest.shape[0]\n",
    "\n",
    "#Base Rate\n",
    "Base_rate = np.arange(1,n+1)\n",
    "\n",
    "#Base_rate percentage\n",
    "Base_rate= Base_rate/n"
   ]
  },
  {
   "cell_type": "code",
   "execution_count": 19,
   "metadata": {
    "collapsed": false
   },
   "outputs": [],
   "source": [
    "#create a dataframe that stores all the probability and true positive\n",
    "df = pd.DataFrame(TP_prob[index],columns=['TP'])\n",
    "decile_df=pd.DataFrame()\n",
    "df['sorted'] = np.array(sort_pos)\n",
    "df['decile'] = (df['TP'].argsort()/float(len(df))*10).astype('int')\n",
    "df['Base_rate'] = Base_rate"
   ]
  },
  {
   "cell_type": "code",
   "execution_count": 20,
   "metadata": {
    "collapsed": false
   },
   "outputs": [
    {
     "data": {
      "text/html": [
       "<div>\n",
       "<table border=\"1\" class=\"dataframe\">\n",
       "  <thead>\n",
       "    <tr style=\"text-align: right;\">\n",
       "      <th></th>\n",
       "      <th>Good</th>\n",
       "      <th>Bad</th>\n",
       "      <th>Recall</th>\n",
       "      <th>Specificty</th>\n",
       "      <th>Cum_Good</th>\n",
       "      <th>Cum_Bad</th>\n",
       "      <th>Population</th>\n",
       "      <th>Lift</th>\n",
       "      <th>Cum_lift</th>\n",
       "      <th>Without_Model</th>\n",
       "    </tr>\n",
       "    <tr>\n",
       "      <th>decile</th>\n",
       "      <th></th>\n",
       "      <th></th>\n",
       "      <th></th>\n",
       "      <th></th>\n",
       "      <th></th>\n",
       "      <th></th>\n",
       "      <th></th>\n",
       "      <th></th>\n",
       "      <th></th>\n",
       "      <th></th>\n",
       "    </tr>\n",
       "  </thead>\n",
       "  <tbody>\n",
       "    <tr>\n",
       "      <th>0</th>\n",
       "      <td>24</td>\n",
       "      <td>0.0</td>\n",
       "      <td>15.286624</td>\n",
       "      <td>0.000000</td>\n",
       "      <td>15.286624</td>\n",
       "      <td>0.000000</td>\n",
       "      <td>10.38961</td>\n",
       "      <td>2.942675</td>\n",
       "      <td>2.942675</td>\n",
       "      <td>0.679654</td>\n",
       "    </tr>\n",
       "    <tr>\n",
       "      <th>1</th>\n",
       "      <td>22</td>\n",
       "      <td>1.0</td>\n",
       "      <td>14.012739</td>\n",
       "      <td>1.351351</td>\n",
       "      <td>29.299363</td>\n",
       "      <td>1.351351</td>\n",
       "      <td>9.95671</td>\n",
       "      <td>0.924841</td>\n",
       "      <td>3.867516</td>\n",
       "      <td>1.359307</td>\n",
       "    </tr>\n",
       "    <tr>\n",
       "      <th>2</th>\n",
       "      <td>21</td>\n",
       "      <td>2.0</td>\n",
       "      <td>13.375796</td>\n",
       "      <td>2.702703</td>\n",
       "      <td>42.675159</td>\n",
       "      <td>4.054054</td>\n",
       "      <td>9.95671</td>\n",
       "      <td>0.532726</td>\n",
       "      <td>4.400242</td>\n",
       "      <td>2.038961</td>\n",
       "    </tr>\n",
       "    <tr>\n",
       "      <th>3</th>\n",
       "      <td>21</td>\n",
       "      <td>2.0</td>\n",
       "      <td>13.375796</td>\n",
       "      <td>2.702703</td>\n",
       "      <td>56.050955</td>\n",
       "      <td>6.756757</td>\n",
       "      <td>9.95671</td>\n",
       "      <td>0.381458</td>\n",
       "      <td>4.781699</td>\n",
       "      <td>2.718615</td>\n",
       "    </tr>\n",
       "    <tr>\n",
       "      <th>4</th>\n",
       "      <td>15</td>\n",
       "      <td>8.0</td>\n",
       "      <td>9.554140</td>\n",
       "      <td>10.810811</td>\n",
       "      <td>65.605096</td>\n",
       "      <td>17.567568</td>\n",
       "      <td>9.95671</td>\n",
       "      <td>0.212212</td>\n",
       "      <td>4.993912</td>\n",
       "      <td>3.398268</td>\n",
       "    </tr>\n",
       "    <tr>\n",
       "      <th>5</th>\n",
       "      <td>16</td>\n",
       "      <td>7.0</td>\n",
       "      <td>10.191083</td>\n",
       "      <td>9.459459</td>\n",
       "      <td>75.796178</td>\n",
       "      <td>27.027027</td>\n",
       "      <td>9.95671</td>\n",
       "      <td>0.185365</td>\n",
       "      <td>5.179277</td>\n",
       "      <td>4.077922</td>\n",
       "    </tr>\n",
       "    <tr>\n",
       "      <th>6</th>\n",
       "      <td>13</td>\n",
       "      <td>10.0</td>\n",
       "      <td>8.280255</td>\n",
       "      <td>13.513514</td>\n",
       "      <td>84.076433</td>\n",
       "      <td>40.540541</td>\n",
       "      <td>9.95671</td>\n",
       "      <td>0.127516</td>\n",
       "      <td>5.306793</td>\n",
       "      <td>4.757576</td>\n",
       "    </tr>\n",
       "    <tr>\n",
       "      <th>7</th>\n",
       "      <td>14</td>\n",
       "      <td>9.0</td>\n",
       "      <td>8.917197</td>\n",
       "      <td>12.162162</td>\n",
       "      <td>92.993631</td>\n",
       "      <td>52.702703</td>\n",
       "      <td>9.95671</td>\n",
       "      <td>0.119068</td>\n",
       "      <td>5.425861</td>\n",
       "      <td>5.437229</td>\n",
       "    </tr>\n",
       "    <tr>\n",
       "      <th>8</th>\n",
       "      <td>7</td>\n",
       "      <td>16.0</td>\n",
       "      <td>4.458599</td>\n",
       "      <td>21.621622</td>\n",
       "      <td>97.452229</td>\n",
       "      <td>74.324324</td>\n",
       "      <td>9.95671</td>\n",
       "      <td>0.052548</td>\n",
       "      <td>5.478408</td>\n",
       "      <td>6.116883</td>\n",
       "    </tr>\n",
       "    <tr>\n",
       "      <th>9</th>\n",
       "      <td>4</td>\n",
       "      <td>19.0</td>\n",
       "      <td>2.547771</td>\n",
       "      <td>25.675676</td>\n",
       "      <td>100.000000</td>\n",
       "      <td>100.000000</td>\n",
       "      <td>9.95671</td>\n",
       "      <td>0.026813</td>\n",
       "      <td>5.505221</td>\n",
       "      <td>6.796537</td>\n",
       "    </tr>\n",
       "  </tbody>\n",
       "</table>\n",
       "</div>"
      ],
      "text/plain": [
       "        Good   Bad     Recall  Specificty    Cum_Good     Cum_Bad  Population  \\\n",
       "decile                                                                          \n",
       "0         24   0.0  15.286624    0.000000   15.286624    0.000000    10.38961   \n",
       "1         22   1.0  14.012739    1.351351   29.299363    1.351351     9.95671   \n",
       "2         21   2.0  13.375796    2.702703   42.675159    4.054054     9.95671   \n",
       "3         21   2.0  13.375796    2.702703   56.050955    6.756757     9.95671   \n",
       "4         15   8.0   9.554140   10.810811   65.605096   17.567568     9.95671   \n",
       "5         16   7.0  10.191083    9.459459   75.796178   27.027027     9.95671   \n",
       "6         13  10.0   8.280255   13.513514   84.076433   40.540541     9.95671   \n",
       "7         14   9.0   8.917197   12.162162   92.993631   52.702703     9.95671   \n",
       "8          7  16.0   4.458599   21.621622   97.452229   74.324324     9.95671   \n",
       "9          4  19.0   2.547771   25.675676  100.000000  100.000000     9.95671   \n",
       "\n",
       "            Lift  Cum_lift  Without_Model  \n",
       "decile                                     \n",
       "0       2.942675  2.942675       0.679654  \n",
       "1       0.924841  3.867516       1.359307  \n",
       "2       0.532726  4.400242       2.038961  \n",
       "3       0.381458  4.781699       2.718615  \n",
       "4       0.212212  4.993912       3.398268  \n",
       "5       0.185365  5.179277       4.077922  \n",
       "6       0.127516  5.306793       4.757576  \n",
       "7       0.119068  5.425861       5.437229  \n",
       "8       0.052548  5.478408       6.116883  \n",
       "9       0.026813  5.505221       6.796537  "
      ]
     },
     "execution_count": 20,
     "metadata": {},
     "output_type": "execute_result"
    }
   ],
   "source": [
    "#create a decile Data frame for the entire data set\n",
    "index = df.groupby(df.decile).mean().index\n",
    "\n",
    "#Decile for Base rate this would be helpful is the worst model \n",
    "base = (df.Base_rate.groupby(df.decile).mean()*100)[::-1].reset_index()\n",
    "\n",
    "#count number of values group by both sorted response and decile\n",
    "decile_values = df.groupby([df.decile,df.sorted]).count()\n",
    "\n",
    "#data with actual True positive for each decile\n",
    "decile_df['Good'] = decile_values['TP'][:,0]\n",
    "\n",
    "#data with actual true negative for each decile\n",
    "decile_df['Bad'] = decile_values['TP'][:,1]\n",
    "\n",
    "#clear Nan \n",
    "decile_df = decile_df.fillna(0)\n",
    "\n",
    "#calculate Sensitivity(recall) and specificty\n",
    "decile_df['Recall'] = decile_df.Good/sum(decile_df.Good)*100\n",
    "decile_df['Specificty'] = decile_df.Bad/sum(decile_df.Bad)*100\n",
    "\n",
    "#Cummulative values of True positive rate(recall) and True Negative rate\n",
    "decile_df['Cum_Good'] = np.cumsum(decile_df.Recall)\n",
    "decile_df['Cum_Bad'] = np.cumsum(decile_df.Specificty)\n",
    "decile_df['Population'] = (decile_df.Good+decile_df.Bad)/n*100\n",
    "decile_df['Lift'] = decile_df.Recall/base.Base_rate\n",
    "decile_df['Cum_lift'] = np.cumsum(decile_df.Lift)\n",
    "decile_df['Without_Model'] = sum(decile_df.Good)/n\n",
    "decile_df['Without_Model'] = np.cumsum(decile_df.Without_Model)\n",
    "decile_df"
   ]
  },
  {
   "cell_type": "code",
   "execution_count": 21,
   "metadata": {
    "collapsed": false
   },
   "outputs": [
    {
     "data": {
      "image/png": "[encoded data removed]",
      "text/plain": [
       "<matplotlib.figure.Figure at 0xb3c4668>"
      ]
     },
     "metadata": {},
     "output_type": "display_data"
    }
   ],
   "source": [
    "# Gain curve plot\n",
    "\n",
    "plt.title(\"Gain Curve\")\n",
    "plt.xlabel(\"Base_rate\")\n",
    "plt.ylabel(\"Recall or True +ve\")\n",
    "\n",
    "\n",
    "#tricks to represent the diagonal\n",
    "plt.plot(base.Base_rate,base.Base_rate,'b-*')\n",
    "\n",
    "#gains curve\n",
    "plt.plot(base.Base_rate,decile_df.Cum_Good,'r-*')\n",
    "\n",
    "#show the chart\n",
    "plt.show()"
   ]
  },
  {
   "cell_type": "code",
   "execution_count": 22,
   "metadata": {
    "collapsed": false
   },
   "outputs": [
    {
     "data": {
      "image/png": "[encoded data removed]",
      "text/plain": [
       "<matplotlib.figure.Figure at 0xa186898>"
      ]
     },
     "metadata": {},
     "output_type": "display_data"
    }
   ],
   "source": [
    "# Lift plot\n",
    "\n",
    "plt.title(\"Lift Curve\")\n",
    "plt.xlabel(\"Base_rate\")\n",
    "plt.ylabel(\"lift\")\n",
    "\n",
    "plt.xlim(0,10)\n",
    "plt.ylim(-1,3)\n",
    "#plt.scatter()\n",
    "plt.plot(decile_df.Population/10,'r-')\n",
    "\n",
    "plt.plot(decile_df.Lift,'b-')\n",
    "plt.show()\n"
   ]
  },
  {
   "cell_type": "code",
   "execution_count": 27,
   "metadata": {
    "collapsed": false
   },
   "outputs": [
    {
     "data": {
      "image/png": "[encoded data removed]",
      "text/plain": [
       "<matplotlib.figure.Figure at 0xbaf36d8>"
      ]
     },
     "metadata": {},
     "output_type": "display_data"
    }
   ],
   "source": [
    "#Decile Chart plot\n",
    "\n",
    "plt.title(\"Decile Wise lift Chart\")\n",
    "plt.xlabel(\"Loss\")\n",
    "plt.ylabel(\"Decile Mean\")\n",
    "\n",
    "plt.bar(index,decile_df.Lift)\n",
    "plt.plot(decile_df.Lift,'r-*')\n",
    "plt.show()"
   ]
  },
  {
   "cell_type": "code",
   "execution_count": 25,
   "metadata": {
    "collapsed": false
   },
   "outputs": [
    {
     "data": {
      "image/png": "[encoded data removed]",
      "text/plain": [
       "<matplotlib.figure.Figure at 0xb9de8d0>"
      ]
     },
     "metadata": {},
     "output_type": "display_data"
    }
   ],
   "source": [
    "#Cummilative Chart plot\n",
    "\n",
    "plt.title(\"Decile Wise lift Chart\")\n",
    "plt.xlabel(\"No of cases\")\n",
    "plt.ylabel(\"Cummilative Lift\")\n",
    "\n",
    "plt.plot(decile_df.Without_Model,'r-')\n",
    "plt.plot(decile_df.Cum_lift,'b-')\n",
    "plt.show()"
   ]
  },
  {
   "cell_type": "markdown",
   "metadata": {},
   "source": [
    "* Above lift shows that Model used doesn't give you a good lift after 4th decile the lift becomes negative"
   ]
  },
  {
   "cell_type": "markdown",
   "metadata": {},
   "source": [
    "**Reference 1:** https://eric.univ-lyon2.fr/~ricco/cours/slides/PJ%20-%20en%20-%20machine%20learning%20avec%20scikit-learn.pdf\n",
    "\n",
    "**Reference 2(Gant Chart):** https://www.youtube.com/watch?v=uwrjI0TT6xc\n",
    "\n",
    "**Reference 3(Decile):** http://thread.gmane.org/gmane.comp.python.pystatsmodels/6742\n",
    " \n",
    "For more accurate documentation regaring funtions used in this code please refer to Sklearn Documentation"
   ]
  }
 ],
 "metadata": {
  "kernelspec": {
   "display_name": "Python 3",
   "language": "python",
   "name": "python3"
  },
  "language_info": {
   "codemirror_mode": {
    "name": "ipython",
    "version": 3
   },
   "file_extension": ".py",
   "mimetype": "text/x-python",
   "name": "python",
   "nbconvert_exporter": "python",
   "pygments_lexer": "ipython3",
   "version": "3.6.0"
  }
 },
 "nbformat": 4,
 "nbformat_minor": 2
}
